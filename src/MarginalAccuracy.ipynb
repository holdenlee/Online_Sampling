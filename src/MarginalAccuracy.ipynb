{
 "cells": [
  {
   "cell_type": "code",
   "execution_count": 7,
   "metadata": {},
   "outputs": [],
   "source": [
    "import numpy as np\n",
    "import math"
   ]
  },
  {
   "cell_type": "code",
   "execution_count": 47,
   "metadata": {},
   "outputs": [],
   "source": [
    "\n",
    "def round_down(val, amt):\n",
    "    return amt*math.floor(val/amt)\n",
    "\n",
    "def round_up(val, amt):\n",
    "    return amt*math.ceil(val/amt)\n",
    "\n",
    "def intervals(xmin,xmax,spacing):\n",
    "    return [xmin + spacing*i for i in range(int((xmax-xmin)/spacing)+1)]\n",
    "\n",
    "def make_hist(a, bin_length):\n",
    "    a_min = np.min(a)\n",
    "    a_max = np.max(a)\n",
    "    # round down bin length\n",
    "    hist, edges = np.histogram(a, intervals(round_down(a_min, bin_length),\n",
    "                                round_up(a_max, bin_length),\n",
    "                                bin_length))\n",
    "    return hist, edges\n",
    "\n",
    "def make_hist_from_std_dev(a,factor):\n",
    "    s = np.std(a)\n",
    "    bin_length = factor*s\n",
    "    return make_hist(a, bin_length)\n",
    "\n",
    "def make_hists(arrs, bin_length):\n",
    "    a_min = np.min(arrs)\n",
    "    a_max = np.max(arrs)\n",
    "    # round down bin length\n",
    "    li = [np.histogram(a, intervals(round_down(a_min, bin_length),\n",
    "                                round_up(a_max, bin_length),\n",
    "                                bin_length)) for a in arrs]\n",
    "    edges = li[0][1]\n",
    "    hists = [t[0] for t in li] \n",
    "    return hists, edges\n",
    "\n",
    "def make_hists_from_std_dev(arrs, factor):\n",
    "    s = np.std(arrs[0])\n",
    "    bin_length = factor*s\n",
    "    return make_hists(arrs, bin_length)\n",
    "\n",
    "def tv(a1,a2):\n",
    "    return np.sum(np.abs((a1-a2).astype(float)))/np.sum(a1)\n",
    "\n",
    "#first array is ground truth\n",
    "def merr(arrs, factor):\n",
    "    (num_arrs, sample_size, d) = arrs.shape\n",
    "    tvs = np.zeros((num_arrs-1, d))\n",
    "    for i in range(d):\n",
    "        arr_i = arrs[:,:,i]\n",
    "        hists, edges = make_hists_from_std_dev(arr_i, factor)\n",
    "        for j in range(num_arrs-1):\n",
    "            tvs[j,i] = tv(hists[0], hists[j+1])\n",
    "    merrs = np.sum(tvs, axis=1)/d\n",
    "    return tvs, merrs\n",
    "#def ma(true_samples, samples, side_length):\n",
    "    "
   ]
  },
  {
   "cell_type": "code",
   "execution_count": 16,
   "metadata": {},
   "outputs": [
    {
     "data": {
      "text/plain": [
       "1"
      ]
     },
     "execution_count": 16,
     "metadata": {},
     "output_type": "execute_result"
    }
   ],
   "source": [
    "\"\"\"\n",
    "    env = LogisticBandit(num_articles, dim, NormalDist(0,1,dim=dim), (NormalDist(0,var,dim=dim)), seed=seed)\n",
    "    experiment = ExperimentCompare(agents, env, n_steps,\n",
    "                   seed=seed, verbosity=verbosity)\n",
    "\"\"\"\n",
    "\n",
    "np.min([1,2,3])"
   ]
  },
  {
   "cell_type": "code",
   "execution_count": 19,
   "metadata": {},
   "outputs": [
    {
     "data": {
      "text/plain": [
       "(array([ 1,  1,  0,  1,  1,  8,  4,  4,  4, 10,  9,  9, 11,  7, 10,  7,  4,\n",
       "         6,  1,  2]),\n",
       " array([-2.64346448, -2.40314952, -2.16283457, -1.92251962, -1.68220467,\n",
       "        -1.44188971, -1.20157476, -0.96125981, -0.72094486, -0.4806299 ,\n",
       "        -0.24031495,  0.        ,  0.24031495,  0.4806299 ,  0.72094486,\n",
       "         0.96125981,  1.20157476,  1.44188971,  1.68220467,  1.92251962,\n",
       "         2.16283457]))"
      ]
     },
     "execution_count": 19,
     "metadata": {},
     "output_type": "execute_result"
    }
   ],
   "source": [
    "#make_hist([-1.2,.4, .9,.95], .5)\n",
    "\n",
    "make_hist_from_std_dev([np.random.normal() for _ in range(100)], 0.25)"
   ]
  },
  {
   "cell_type": "code",
   "execution_count": 42,
   "metadata": {},
   "outputs": [
    {
     "data": {
      "text/plain": [
       "0.2222222222222222"
      ]
     },
     "execution_count": 42,
     "metadata": {},
     "output_type": "execute_result"
    }
   ],
   "source": [
    "make_hists([[1.5,2.5],[2.5,3.5]], 1)\n",
    "\n",
    "tv(np.asarray([1,2,3,2,1]),np.asarray([1,3,3,1,1]))"
   ]
  },
  {
   "cell_type": "code",
   "execution_count": 48,
   "metadata": {},
   "outputs": [
    {
     "data": {
      "text/plain": [
       "(array([[0., 1.],\n",
       "        [1., 0.]]), array([0.5, 0.5]))"
      ]
     },
     "execution_count": 48,
     "metadata": {},
     "output_type": "execute_result"
    }
   ],
   "source": [
    "arrs = np.asarray([[[-1,-1],[1,1]],[[-1,-1],[1,-1]],[[1,-1],[1,1]]])\n",
    "merr(arrs,1)"
   ]
  },
  {
   "cell_type": "code",
   "execution_count": null,
   "metadata": {},
   "outputs": [],
   "source": []
  }
 ],
 "metadata": {
  "kernelspec": {
   "display_name": "Python 2",
   "language": "python",
   "name": "python2"
  },
  "language_info": {
   "codemirror_mode": {
    "name": "ipython",
    "version": 2
   },
   "file_extension": ".py",
   "mimetype": "text/x-python",
   "name": "python",
   "nbconvert_exporter": "python",
   "pygments_lexer": "ipython2",
   "version": "2.7.13"
  }
 },
 "nbformat": 4,
 "nbformat_minor": 2
}
